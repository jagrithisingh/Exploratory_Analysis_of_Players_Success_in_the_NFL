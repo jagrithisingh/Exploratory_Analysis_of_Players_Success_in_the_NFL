{
 "cells": [
  {
   "cell_type": "code",
   "execution_count": 7,
   "id": "8c25b360",
   "metadata": {},
   "outputs": [
    {
     "name": "stdout",
     "output_type": "stream",
     "text": [
      "Intel MKL WARNING: Support of Intel(R) Streaming SIMD Extensions 4.2 (Intel(R) SSE4.2) enabled only processors has been deprecated. Intel oneAPI Math Kernel Library 2025.0 will require Intel(R) Advanced Vector Extensions (Intel(R) AVX) instructions.\n",
      "Intel MKL WARNING: Support of Intel(R) Streaming SIMD Extensions 4.2 (Intel(R) SSE4.2) enabled only processors has been deprecated. Intel oneAPI Math Kernel Library 2025.0 will require Intel(R) Advanced Vector Extensions (Intel(R) AVX) instructions.\n"
     ]
    }
   ],
   "source": [
    "from urllib.request import urlopen\n",
    "from bs4 import BeautifulSoup\n",
    "import pandas as pd"
   ]
  },
  {
   "cell_type": "code",
   "execution_count": 2,
   "id": "e014cd02",
   "metadata": {},
   "outputs": [],
   "source": [
    "def playerstats(year):\n",
    "    url = \"https://www.pro-football-reference.com/years/{}/fantasy.htm\".format(year)\n",
    "    html = urlopen(url)\n",
    "    soup = BeautifulSoup(html)\n",
    "    \n",
    "    headers = [th.getText() for th in soup.findAll('tr')[1].findAll('th')]\n",
    "    headers = headers[1:]\n",
    "    print(headers[:5])\n",
    "    \n",
    "    rows = soup.findAll('tr', class_ = lambda table_rows: table_rows != \"thead\")\n",
    "    player_stats = [[td.getText() for td in rows[i].findAll('td')]\n",
    "                    for i in range(len(rows))]\n",
    "    player_stats = player_stats[2:]\n",
    "    \n",
    "    stats = pd.DataFrame(player_stats, columns = headers)\n",
    "    stats.head()\n",
    "    \n",
    "#     stats = stats.replace(r'', 0, regex=True)\n",
    "    stats['Year'] = year\n",
    "    stats.head()\n",
    "    \n",
    "    stats.to_csv('{}playerstats.csv'.format(year))"
   ]
  },
  {
   "cell_type": "code",
   "execution_count": 23,
   "id": "f8f858ab",
   "metadata": {},
   "outputs": [],
   "source": [
    "def playerstatscombine(year):\n",
    "    url = \"https://www.pro-football-reference.com/draft/{}-combine.htm\".format(year)\n",
    "    html = urlopen(url)\n",
    "    soup = BeautifulSoup(html, 'html.parser')\n",
    "    \n",
    "    headers = [th.getText() for th in soup.findAll('tr')[0].findAll('th')]\n",
    "    headers = headers[0:]\n",
    "    print(headers[:5])\n",
    "    \n",
    "    rows = soup.findAll('tr', class_ = lambda table_rows: table_rows != \"thead\")\n",
    "    player_stats = [[td.getText() for td in rows[i].findAll('td')]\n",
    "                    for i in range(len(rows))]\n",
    "    player_stats = player_stats[1:]\n",
    "    \n",
    "    stats = pd.DataFrame(player_stats)\n",
    "    stats.head()\n",
    "    \n",
    "#     stats = stats.replace(r'', 0, regex=True)\n",
    "#     stats['Year'] = year\n",
    "#     stats.head()\n",
    "    \n",
    "    stats.to_csv('{}playerstatscombine.csv'.format(year))"
   ]
  },
  {
   "cell_type": "code",
   "execution_count": 4,
   "id": "29a6ee23",
   "metadata": {},
   "outputs": [
    {
     "name": "stdout",
     "output_type": "stream",
     "text": [
      "['Player', 'Tm', 'FantPos', 'Age', 'G']\n",
      "[]\n",
      "['Player', 'Tm', 'FantPos', 'Age', 'G']\n",
      "[]\n",
      "['Player', 'Tm', 'FantPos', 'Age', 'G']\n",
      "[]\n",
      "['Player', 'Tm', 'FantPos', 'Age', 'G']\n",
      "[]\n",
      "['Player', 'Tm', 'FantPos', 'Age', 'G']\n",
      "[]\n",
      "['Player', 'Tm', 'FantPos', 'Age', 'G']\n",
      "[]\n",
      "['Player', 'Tm', 'FantPos', 'Age', 'G']\n",
      "[]\n"
     ]
    }
   ],
   "source": [
    "for year in range(2000,2022):\n",
    "    playerstats(year)\n",
    "    playerstatscombine(year)"
   ]
  },
  {
   "cell_type": "code",
   "execution_count": null,
   "id": "758ba9a1",
   "metadata": {},
   "outputs": [],
   "source": []
  }
 ],
 "metadata": {
  "kernelspec": {
   "display_name": "Python 3 (ipykernel)",
   "language": "python",
   "name": "python3"
  },
  "language_info": {
   "codemirror_mode": {
    "name": "ipython",
    "version": 3
   },
   "file_extension": ".py",
   "mimetype": "text/x-python",
   "name": "python",
   "nbconvert_exporter": "python",
   "pygments_lexer": "ipython3",
   "version": "3.9.7"
  }
 },
 "nbformat": 4,
 "nbformat_minor": 5
}
