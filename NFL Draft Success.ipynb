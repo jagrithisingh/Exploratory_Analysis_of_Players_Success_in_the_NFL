{
 "cells": [
  {
   "cell_type": "code",
   "execution_count": 3,
   "id": "0beaf1c1",
   "metadata": {},
   "outputs": [],
   "source": [
    "import pandas as pd\n",
    "import matplotlib.pyplot as plt\n",
    "import seaborn as sns\n",
    "from sklearn.model_selection import train_test_split\n",
    "from sklearn.ensemble import RandomForestClassifier\n",
    "from xgboost import XGBClassifier\n",
    "from sklearn.svm import SVC\n",
    "from sklearn.tree import DecisionTreeClassifier\n",
    "from sklearn.linear_model import LogisticRegression\n",
    "from sklearn.metrics import accuracy_score\n",
    "from tabulate import tabulate"
   ]
  },
  {
   "cell_type": "code",
   "execution_count": 5,
   "id": "946c449a",
   "metadata": {},
   "outputs": [
    {
     "name": "stdout",
     "output_type": "stream",
     "text": [
      "                 Player   Pos         School     Wt  40yd  Vertical  Bench  \\\n",
      "0          Cal Adomitis    LS     Pittsburgh  235.0  4.97      29.5   18.0   \n",
      "1          Austin Allen    TE       Nebraska  253.0  4.83      34.0    NaN   \n",
      "2           Chase Allen    TE       Iowa St.  251.0   NaN      33.5    NaN   \n",
      "3     Christopher Allen  EDGE        Alabama  241.0   NaN       NaN    NaN   \n",
      "4        Tyler Allgeier    RB            BYU  224.0  4.60      33.0    NaN   \n",
      "...                 ...   ...            ...    ...   ...       ...    ...   \n",
      "7675     Cedric Woodard    DT          Texas  290.0  5.21      30.5   23.0   \n",
      "7676      Destry Wright    RB  Jackson State  216.0  4.84      29.5   15.0   \n",
      "7677       Spergon Wynn    QB    Texas State  229.0  4.91      34.0    NaN   \n",
      "7678      Bashir Yamini    WR           Iowa  191.0  4.53      33.0    NaN   \n",
      "7679        Brian Young    DE  Texas-El Paso  278.0  4.94      29.5   27.0   \n",
      "\n",
      "      Broad Jump  3Cone  Shuttle  year  Height Drafted  \n",
      "0          107.0   7.53     4.62  2022      74      NO  \n",
      "1          121.0   7.00     4.26  2022      80      NO  \n",
      "2          117.0   7.03     4.43  2022      78      NO  \n",
      "3            NaN    NaN      NaN  2022      76      NO  \n",
      "4          120.0    NaN      NaN  2022      71     YES  \n",
      "...          ...    ...      ...   ...     ...     ...  \n",
      "7675       109.0    NaN      NaN  2000      74     YES  \n",
      "7676       112.0   7.15     4.41  2000      71      NO  \n",
      "7677       108.0   7.71     4.59  2000      75     YES  \n",
      "7678       130.0   7.09     4.18  2000      75      NO  \n",
      "7679       106.0   7.20     4.47  2000      74     YES  \n",
      "\n",
      "[7680 rows x 13 columns]\n"
     ]
    }
   ],
   "source": [
    "# Specify the file path of the Excel file\n",
    "file_path = '/Users/sehwag/Library/CloudStorage/OneDrive-UniversityCollegeDublin/Microsoft Teams Chat Files/NFL Combine 2022-2000.xlsx'\n",
    "\n",
    "# Read the Excel file\n",
    "excel_data = pd.read_excel(file_path, sheet_name=None)\n",
    "\n",
    "# Concatenate all sheets into one DataFrame\n",
    "combined_df = pd.concat(excel_data.values(), ignore_index=True)\n",
    "\n",
    "# Display the combined DataFrame\n",
    "print(combined_df)"
   ]
  },
  {
   "cell_type": "code",
   "execution_count": 6,
   "id": "3b51df56",
   "metadata": {},
   "outputs": [
    {
     "data": {
      "text/html": [
       "<div>\n",
       "<style scoped>\n",
       "    .dataframe tbody tr th:only-of-type {\n",
       "        vertical-align: middle;\n",
       "    }\n",
       "\n",
       "    .dataframe tbody tr th {\n",
       "        vertical-align: top;\n",
       "    }\n",
       "\n",
       "    .dataframe thead th {\n",
       "        text-align: right;\n",
       "    }\n",
       "</style>\n",
       "<table border=\"1\" class=\"dataframe\">\n",
       "  <thead>\n",
       "    <tr style=\"text-align: right;\">\n",
       "      <th></th>\n",
       "      <th>Player</th>\n",
       "      <th>Pos</th>\n",
       "      <th>School</th>\n",
       "      <th>Wt</th>\n",
       "      <th>40yd</th>\n",
       "      <th>Vertical</th>\n",
       "      <th>Bench</th>\n",
       "      <th>Broad Jump</th>\n",
       "      <th>3Cone</th>\n",
       "      <th>Shuttle</th>\n",
       "      <th>year</th>\n",
       "      <th>Height</th>\n",
       "      <th>Drafted</th>\n",
       "    </tr>\n",
       "  </thead>\n",
       "  <tbody>\n",
       "    <tr>\n",
       "      <th>0</th>\n",
       "      <td>Cal Adomitis</td>\n",
       "      <td>LS</td>\n",
       "      <td>Pittsburgh</td>\n",
       "      <td>235.0</td>\n",
       "      <td>4.97</td>\n",
       "      <td>29.5</td>\n",
       "      <td>18.0</td>\n",
       "      <td>107.0</td>\n",
       "      <td>7.53</td>\n",
       "      <td>4.62</td>\n",
       "      <td>2022</td>\n",
       "      <td>74</td>\n",
       "      <td>NO</td>\n",
       "    </tr>\n",
       "    <tr>\n",
       "      <th>1</th>\n",
       "      <td>Austin Allen</td>\n",
       "      <td>TE</td>\n",
       "      <td>Nebraska</td>\n",
       "      <td>253.0</td>\n",
       "      <td>4.83</td>\n",
       "      <td>34.0</td>\n",
       "      <td>NaN</td>\n",
       "      <td>121.0</td>\n",
       "      <td>7.00</td>\n",
       "      <td>4.26</td>\n",
       "      <td>2022</td>\n",
       "      <td>80</td>\n",
       "      <td>NO</td>\n",
       "    </tr>\n",
       "    <tr>\n",
       "      <th>2</th>\n",
       "      <td>Chase Allen</td>\n",
       "      <td>TE</td>\n",
       "      <td>Iowa St.</td>\n",
       "      <td>251.0</td>\n",
       "      <td>NaN</td>\n",
       "      <td>33.5</td>\n",
       "      <td>NaN</td>\n",
       "      <td>117.0</td>\n",
       "      <td>7.03</td>\n",
       "      <td>4.43</td>\n",
       "      <td>2022</td>\n",
       "      <td>78</td>\n",
       "      <td>NO</td>\n",
       "    </tr>\n",
       "    <tr>\n",
       "      <th>3</th>\n",
       "      <td>Christopher Allen</td>\n",
       "      <td>EDGE</td>\n",
       "      <td>Alabama</td>\n",
       "      <td>241.0</td>\n",
       "      <td>NaN</td>\n",
       "      <td>NaN</td>\n",
       "      <td>NaN</td>\n",
       "      <td>NaN</td>\n",
       "      <td>NaN</td>\n",
       "      <td>NaN</td>\n",
       "      <td>2022</td>\n",
       "      <td>76</td>\n",
       "      <td>NO</td>\n",
       "    </tr>\n",
       "    <tr>\n",
       "      <th>4</th>\n",
       "      <td>Tyler Allgeier</td>\n",
       "      <td>RB</td>\n",
       "      <td>BYU</td>\n",
       "      <td>224.0</td>\n",
       "      <td>4.60</td>\n",
       "      <td>33.0</td>\n",
       "      <td>NaN</td>\n",
       "      <td>120.0</td>\n",
       "      <td>NaN</td>\n",
       "      <td>NaN</td>\n",
       "      <td>2022</td>\n",
       "      <td>71</td>\n",
       "      <td>YES</td>\n",
       "    </tr>\n",
       "  </tbody>\n",
       "</table>\n",
       "</div>"
      ],
      "text/plain": [
       "              Player   Pos      School     Wt  40yd  Vertical  Bench  \\\n",
       "0       Cal Adomitis    LS  Pittsburgh  235.0  4.97      29.5   18.0   \n",
       "1       Austin Allen    TE    Nebraska  253.0  4.83      34.0    NaN   \n",
       "2        Chase Allen    TE    Iowa St.  251.0   NaN      33.5    NaN   \n",
       "3  Christopher Allen  EDGE     Alabama  241.0   NaN       NaN    NaN   \n",
       "4     Tyler Allgeier    RB         BYU  224.0  4.60      33.0    NaN   \n",
       "\n",
       "   Broad Jump  3Cone  Shuttle  year  Height Drafted  \n",
       "0       107.0   7.53     4.62  2022      74      NO  \n",
       "1       121.0   7.00     4.26  2022      80      NO  \n",
       "2       117.0   7.03     4.43  2022      78      NO  \n",
       "3         NaN    NaN      NaN  2022      76      NO  \n",
       "4       120.0    NaN      NaN  2022      71     YES  "
      ]
     },
     "execution_count": 6,
     "metadata": {},
     "output_type": "execute_result"
    }
   ],
   "source": [
    "combined_df.head()"
   ]
  },
  {
   "cell_type": "code",
   "execution_count": 7,
   "id": "68a2a4ef",
   "metadata": {},
   "outputs": [],
   "source": [
    "column_name = \"Shuttle\"\n",
    "median_value = combined_df[column_name].median()\n",
    "combined_df[column_name].fillna(median_value, inplace=True)"
   ]
  },
  {
   "cell_type": "code",
   "execution_count": 8,
   "id": "76367473",
   "metadata": {},
   "outputs": [],
   "source": [
    "# Replace occurrences of 1 in the \"height\" column with the median value\n",
    "median_value = combined_df['Height'].median()\n",
    "combined_df['Height'] = combined_df['Height'].replace(1, median_value)"
   ]
  },
  {
   "cell_type": "code",
   "execution_count": 9,
   "id": "4b87c8c3",
   "metadata": {},
   "outputs": [],
   "source": [
    "# Replace occurrences of text in the \"drafted\" column with the binary value\n",
    "combined_df['Drafted'] = combined_df['Drafted'].replace(\"YES\", 1)\n",
    "combined_df['Drafted'] = combined_df['Drafted'].replace(\"NO\", 0)"
   ]
  },
  {
   "cell_type": "code",
   "execution_count": 10,
   "id": "b26f41b4",
   "metadata": {},
   "outputs": [
    {
     "data": {
      "text/plain": [
       "Player           0\n",
       "Pos              0\n",
       "School           0\n",
       "Wt              24\n",
       "40yd           474\n",
       "Vertical      1748\n",
       "Bench         2584\n",
       "Broad Jump    1821\n",
       "3Cone         2888\n",
       "Shuttle          0\n",
       "year             0\n",
       "Height           0\n",
       "Drafted          0\n",
       "dtype: int64"
      ]
     },
     "execution_count": 10,
     "metadata": {},
     "output_type": "execute_result"
    }
   ],
   "source": [
    "missing_values = combined_df.isna().sum()\n",
    "missing_values"
   ]
  },
  {
   "cell_type": "code",
   "execution_count": 15,
   "id": "19657c2a",
   "metadata": {},
   "outputs": [
    {
     "name": "stdout",
     "output_type": "stream",
     "text": [
      "            Wt     40yd  Vertical    Bench  Broad Jump    3Cone  Shuttle  \\\n",
      "count  7656.00  7206.00   5932.00  5096.00     5859.00  4792.00  7680.00   \n",
      "mean    242.75     4.78     32.89    20.75      114.60     7.28     4.39   \n",
      "std      45.25     0.30      4.22     6.38        9.35     0.42     0.21   \n",
      "min     144.00     4.22     17.50     2.00       74.00     6.28     3.73   \n",
      "25%     205.00     4.54     30.00    16.00      109.00     6.97     4.29   \n",
      "50%     232.00     4.69     33.00    21.00      116.00     7.19     4.36   \n",
      "75%     280.00     4.98     36.00    25.00      121.00     7.53     4.43   \n",
      "max     384.00     6.05     46.50    49.00      147.00     9.12     5.56   \n",
      "\n",
      "          year   Height  Drafted  \n",
      "count  7680.00  7680.00  7680.00  \n",
      "mean   2011.23    73.79     0.64  \n",
      "std       6.69     2.64     0.48  \n",
      "min    2000.00    64.00     0.00  \n",
      "25%    2005.00    72.00     0.00  \n",
      "50%    2011.00    74.00     1.00  \n",
      "75%    2017.00    76.00     1.00  \n",
      "max    2022.00    82.00     1.00  \n"
     ]
    }
   ],
   "source": [
    "# Calculate summary statistics\n",
    "summary_stats = combined_df.describe().round(2)\n",
    "\n",
    "# Display the summary statistics\n",
    "print(summary_stats)"
   ]
  },
  {
   "cell_type": "code",
   "execution_count": 14,
   "id": "59a666f1",
   "metadata": {},
   "outputs": [
    {
     "data": {
      "text/html": [
       "<div>\n",
       "<style scoped>\n",
       "    .dataframe tbody tr th:only-of-type {\n",
       "        vertical-align: middle;\n",
       "    }\n",
       "\n",
       "    .dataframe tbody tr th {\n",
       "        vertical-align: top;\n",
       "    }\n",
       "\n",
       "    .dataframe thead th {\n",
       "        text-align: right;\n",
       "    }\n",
       "</style>\n",
       "<table border=\"1\" class=\"dataframe\">\n",
       "  <thead>\n",
       "    <tr style=\"text-align: right;\">\n",
       "      <th></th>\n",
       "      <th>Wt</th>\n",
       "      <th>40yd</th>\n",
       "      <th>Vertical</th>\n",
       "      <th>Bench</th>\n",
       "      <th>Broad Jump</th>\n",
       "      <th>3Cone</th>\n",
       "      <th>Shuttle</th>\n",
       "      <th>year</th>\n",
       "      <th>Height</th>\n",
       "      <th>Drafted</th>\n",
       "    </tr>\n",
       "  </thead>\n",
       "  <tbody>\n",
       "    <tr>\n",
       "      <th>0</th>\n",
       "      <td>7656.000000</td>\n",
       "      <td>7206.000000</td>\n",
       "      <td>5932.000000</td>\n",
       "      <td>5096.000000</td>\n",
       "      <td>5859.000000</td>\n",
       "      <td>4792.000000</td>\n",
       "      <td>7680.000000</td>\n",
       "      <td>7680.000000</td>\n",
       "      <td>7680.000000</td>\n",
       "      <td>7680.000000</td>\n",
       "    </tr>\n",
       "    <tr>\n",
       "      <th>1</th>\n",
       "      <td>242.748694</td>\n",
       "      <td>4.776363</td>\n",
       "      <td>32.894606</td>\n",
       "      <td>20.751766</td>\n",
       "      <td>114.596518</td>\n",
       "      <td>7.284451</td>\n",
       "      <td>4.385104</td>\n",
       "      <td>2011.228646</td>\n",
       "      <td>73.788932</td>\n",
       "      <td>0.642839</td>\n",
       "    </tr>\n",
       "    <tr>\n",
       "      <th>2</th>\n",
       "      <td>45.254869</td>\n",
       "      <td>0.304835</td>\n",
       "      <td>4.215423</td>\n",
       "      <td>6.384214</td>\n",
       "      <td>9.349189</td>\n",
       "      <td>0.417650</td>\n",
       "      <td>0.214051</td>\n",
       "      <td>6.692787</td>\n",
       "      <td>2.639391</td>\n",
       "      <td>0.479194</td>\n",
       "    </tr>\n",
       "    <tr>\n",
       "      <th>3</th>\n",
       "      <td>144.000000</td>\n",
       "      <td>4.220000</td>\n",
       "      <td>17.500000</td>\n",
       "      <td>2.000000</td>\n",
       "      <td>74.000000</td>\n",
       "      <td>6.280000</td>\n",
       "      <td>3.730000</td>\n",
       "      <td>2000.000000</td>\n",
       "      <td>64.000000</td>\n",
       "      <td>0.000000</td>\n",
       "    </tr>\n",
       "    <tr>\n",
       "      <th>4</th>\n",
       "      <td>205.000000</td>\n",
       "      <td>4.540000</td>\n",
       "      <td>30.000000</td>\n",
       "      <td>16.000000</td>\n",
       "      <td>109.000000</td>\n",
       "      <td>6.970000</td>\n",
       "      <td>4.290000</td>\n",
       "      <td>2005.000000</td>\n",
       "      <td>72.000000</td>\n",
       "      <td>0.000000</td>\n",
       "    </tr>\n",
       "    <tr>\n",
       "      <th>5</th>\n",
       "      <td>232.000000</td>\n",
       "      <td>4.690000</td>\n",
       "      <td>33.000000</td>\n",
       "      <td>21.000000</td>\n",
       "      <td>116.000000</td>\n",
       "      <td>7.190000</td>\n",
       "      <td>4.360000</td>\n",
       "      <td>2011.000000</td>\n",
       "      <td>74.000000</td>\n",
       "      <td>1.000000</td>\n",
       "    </tr>\n",
       "    <tr>\n",
       "      <th>6</th>\n",
       "      <td>280.000000</td>\n",
       "      <td>4.977500</td>\n",
       "      <td>36.000000</td>\n",
       "      <td>25.000000</td>\n",
       "      <td>121.000000</td>\n",
       "      <td>7.530000</td>\n",
       "      <td>4.430000</td>\n",
       "      <td>2017.000000</td>\n",
       "      <td>76.000000</td>\n",
       "      <td>1.000000</td>\n",
       "    </tr>\n",
       "    <tr>\n",
       "      <th>7</th>\n",
       "      <td>384.000000</td>\n",
       "      <td>6.050000</td>\n",
       "      <td>46.500000</td>\n",
       "      <td>49.000000</td>\n",
       "      <td>147.000000</td>\n",
       "      <td>9.120000</td>\n",
       "      <td>5.560000</td>\n",
       "      <td>2022.000000</td>\n",
       "      <td>82.000000</td>\n",
       "      <td>1.000000</td>\n",
       "    </tr>\n",
       "  </tbody>\n",
       "</table>\n",
       "</div>"
      ],
      "text/plain": [
       "            Wt         40yd     Vertical        Bench   Broad Jump  \\\n",
       "0  7656.000000  7206.000000  5932.000000  5096.000000  5859.000000   \n",
       "1   242.748694     4.776363    32.894606    20.751766   114.596518   \n",
       "2    45.254869     0.304835     4.215423     6.384214     9.349189   \n",
       "3   144.000000     4.220000    17.500000     2.000000    74.000000   \n",
       "4   205.000000     4.540000    30.000000    16.000000   109.000000   \n",
       "5   232.000000     4.690000    33.000000    21.000000   116.000000   \n",
       "6   280.000000     4.977500    36.000000    25.000000   121.000000   \n",
       "7   384.000000     6.050000    46.500000    49.000000   147.000000   \n",
       "\n",
       "         3Cone      Shuttle         year       Height      Drafted  \n",
       "0  4792.000000  7680.000000  7680.000000  7680.000000  7680.000000  \n",
       "1     7.284451     4.385104  2011.228646    73.788932     0.642839  \n",
       "2     0.417650     0.214051     6.692787     2.639391     0.479194  \n",
       "3     6.280000     3.730000  2000.000000    64.000000     0.000000  \n",
       "4     6.970000     4.290000  2005.000000    72.000000     0.000000  \n",
       "5     7.190000     4.360000  2011.000000    74.000000     1.000000  \n",
       "6     7.530000     4.430000  2017.000000    76.000000     1.000000  \n",
       "7     9.120000     5.560000  2022.000000    82.000000     1.000000  "
      ]
     },
     "execution_count": 14,
     "metadata": {},
     "output_type": "execute_result"
    }
   ],
   "source": []
  },
  {
   "cell_type": "code",
   "execution_count": 40,
   "id": "51de640b",
   "metadata": {
    "scrolled": false
   },
   "outputs": [
    {
     "name": "stdout",
     "output_type": "stream",
     "text": [
      "Series([], Name: Height, dtype: int64)\n"
     ]
    },
    {
     "data": {
      "text/plain": [
       "0"
      ]
     },
     "execution_count": 40,
     "metadata": {},
     "output_type": "execute_result"
    }
   ],
   "source": [
    "filtered_height = combined_df['Height'] < 60\n",
    "filtered_values = combined_df.loc[filtered_height, 'Height']\n",
    "\n",
    "# Display the filtered values\n",
    "print((filtered_values))\n",
    "len(filtered_values)\n"
   ]
  },
  {
   "cell_type": "code",
   "execution_count": 10,
   "id": "da2f5a2a",
   "metadata": {},
   "outputs": [
    {
     "name": "stdout",
     "output_type": "stream",
     "text": [
      "                 Player   Pos         School     Wt  40yd  Vertical  Bench  \\\n",
      "0          Cal Adomitis    LS     Pittsburgh  235.0  4.97      29.5   18.0   \n",
      "1          Austin Allen    TE       Nebraska  253.0  4.83      34.0    NaN   \n",
      "2           Chase Allen    TE       Iowa St.  251.0   NaN      33.5    NaN   \n",
      "3     Christopher Allen  EDGE        Alabama  241.0   NaN       NaN    NaN   \n",
      "4        Tyler Allgeier    RB            BYU  224.0  4.60      33.0    NaN   \n",
      "...                 ...   ...            ...    ...   ...       ...    ...   \n",
      "7675     Cedric Woodard    DT          Texas  290.0  5.21      30.5   23.0   \n",
      "7676      Destry Wright    RB  Jackson State  216.0  4.84      29.5   15.0   \n",
      "7677       Spergon Wynn    QB    Texas State  229.0  4.91      34.0    NaN   \n",
      "7678      Bashir Yamini    WR           Iowa  191.0  4.53      33.0    NaN   \n",
      "7679        Brian Young    DE  Texas-El Paso  278.0  4.94      29.5   27.0   \n",
      "\n",
      "      Broad Jump  3Cone  Shuttle       year  Height  Drafted  \n",
      "0          107.0   7.53     4.62 2022-01-01      74        0  \n",
      "1          121.0   7.00     4.26 2022-01-01      80        0  \n",
      "2          117.0   7.03     4.43 2022-01-01      78        0  \n",
      "3            NaN    NaN     4.36 2022-01-01      76        0  \n",
      "4          120.0    NaN     4.36 2022-01-01      71        1  \n",
      "...          ...    ...      ...        ...     ...      ...  \n",
      "7675       109.0    NaN     4.36 2000-01-01      74        1  \n",
      "7676       112.0   7.15     4.41 2000-01-01      71        0  \n",
      "7677       108.0   7.71     4.59 2000-01-01      75        1  \n",
      "7678       130.0   7.09     4.18 2000-01-01      75        0  \n",
      "7679       106.0   7.20     4.47 2000-01-01      74        1  \n",
      "\n",
      "[7680 rows x 13 columns]\n"
     ]
    }
   ],
   "source": [
    "# Convert the \"year\" column to datetime\n",
    "combined_df['year'] = pd.to_datetime(combined_df['year'], format='%Y')\n",
    "\n",
    "# Print the updated DataFrame\n",
    "print(combined_df)"
   ]
  },
  {
   "cell_type": "code",
   "execution_count": 14,
   "id": "dd696587",
   "metadata": {},
   "outputs": [],
   "source": [
    "combined_df.to_csv('cleaned_data.csv', index=False)"
   ]
  },
  {
   "cell_type": "code",
   "execution_count": 13,
   "id": "fac66344",
   "metadata": {},
   "outputs": [
    {
     "data": {
      "text/html": [
       "<div>\n",
       "<style scoped>\n",
       "    .dataframe tbody tr th:only-of-type {\n",
       "        vertical-align: middle;\n",
       "    }\n",
       "\n",
       "    .dataframe tbody tr th {\n",
       "        vertical-align: top;\n",
       "    }\n",
       "\n",
       "    .dataframe thead th {\n",
       "        text-align: right;\n",
       "    }\n",
       "</style>\n",
       "<table border=\"1\" class=\"dataframe\">\n",
       "  <thead>\n",
       "    <tr style=\"text-align: right;\">\n",
       "      <th></th>\n",
       "      <th>Player</th>\n",
       "      <th>Pos</th>\n",
       "      <th>School</th>\n",
       "      <th>Wt</th>\n",
       "      <th>40yd</th>\n",
       "      <th>Vertical</th>\n",
       "      <th>Bench</th>\n",
       "      <th>Broad Jump</th>\n",
       "      <th>3Cone</th>\n",
       "      <th>Shuttle</th>\n",
       "      <th>year</th>\n",
       "      <th>Height</th>\n",
       "      <th>Drafted</th>\n",
       "    </tr>\n",
       "  </thead>\n",
       "  <tbody>\n",
       "    <tr>\n",
       "      <th>0</th>\n",
       "      <td>Cal Adomitis</td>\n",
       "      <td>LS</td>\n",
       "      <td>Pittsburgh</td>\n",
       "      <td>235.0</td>\n",
       "      <td>4.97</td>\n",
       "      <td>29.5</td>\n",
       "      <td>18.0</td>\n",
       "      <td>107.0</td>\n",
       "      <td>7.53</td>\n",
       "      <td>4.62</td>\n",
       "      <td>2022-01-01</td>\n",
       "      <td>74</td>\n",
       "      <td>0</td>\n",
       "    </tr>\n",
       "    <tr>\n",
       "      <th>1</th>\n",
       "      <td>Austin Allen</td>\n",
       "      <td>TE</td>\n",
       "      <td>Nebraska</td>\n",
       "      <td>253.0</td>\n",
       "      <td>4.83</td>\n",
       "      <td>34.0</td>\n",
       "      <td>0.0</td>\n",
       "      <td>121.0</td>\n",
       "      <td>7.00</td>\n",
       "      <td>4.26</td>\n",
       "      <td>2022-01-01</td>\n",
       "      <td>80</td>\n",
       "      <td>0</td>\n",
       "    </tr>\n",
       "    <tr>\n",
       "      <th>2</th>\n",
       "      <td>Chase Allen</td>\n",
       "      <td>TE</td>\n",
       "      <td>Iowa St.</td>\n",
       "      <td>251.0</td>\n",
       "      <td>0.00</td>\n",
       "      <td>33.5</td>\n",
       "      <td>0.0</td>\n",
       "      <td>117.0</td>\n",
       "      <td>7.03</td>\n",
       "      <td>4.43</td>\n",
       "      <td>2022-01-01</td>\n",
       "      <td>78</td>\n",
       "      <td>0</td>\n",
       "    </tr>\n",
       "    <tr>\n",
       "      <th>3</th>\n",
       "      <td>Christopher Allen</td>\n",
       "      <td>EDGE</td>\n",
       "      <td>Alabama</td>\n",
       "      <td>241.0</td>\n",
       "      <td>0.00</td>\n",
       "      <td>0.0</td>\n",
       "      <td>0.0</td>\n",
       "      <td>0.0</td>\n",
       "      <td>0.00</td>\n",
       "      <td>4.36</td>\n",
       "      <td>2022-01-01</td>\n",
       "      <td>76</td>\n",
       "      <td>0</td>\n",
       "    </tr>\n",
       "    <tr>\n",
       "      <th>4</th>\n",
       "      <td>Tyler Allgeier</td>\n",
       "      <td>RB</td>\n",
       "      <td>BYU</td>\n",
       "      <td>224.0</td>\n",
       "      <td>4.60</td>\n",
       "      <td>33.0</td>\n",
       "      <td>0.0</td>\n",
       "      <td>120.0</td>\n",
       "      <td>0.00</td>\n",
       "      <td>4.36</td>\n",
       "      <td>2022-01-01</td>\n",
       "      <td>71</td>\n",
       "      <td>1</td>\n",
       "    </tr>\n",
       "  </tbody>\n",
       "</table>\n",
       "</div>"
      ],
      "text/plain": [
       "              Player   Pos      School     Wt  40yd  Vertical  Bench  \\\n",
       "0       Cal Adomitis    LS  Pittsburgh  235.0  4.97      29.5   18.0   \n",
       "1       Austin Allen    TE    Nebraska  253.0  4.83      34.0    0.0   \n",
       "2        Chase Allen    TE    Iowa St.  251.0  0.00      33.5    0.0   \n",
       "3  Christopher Allen  EDGE     Alabama  241.0  0.00       0.0    0.0   \n",
       "4     Tyler Allgeier    RB         BYU  224.0  4.60      33.0    0.0   \n",
       "\n",
       "   Broad Jump  3Cone  Shuttle       year  Height  Drafted  \n",
       "0       107.0   7.53     4.62 2022-01-01      74        0  \n",
       "1       121.0   7.00     4.26 2022-01-01      80        0  \n",
       "2       117.0   7.03     4.43 2022-01-01      78        0  \n",
       "3         0.0   0.00     4.36 2022-01-01      76        0  \n",
       "4       120.0   0.00     4.36 2022-01-01      71        1  "
      ]
     },
     "execution_count": 13,
     "metadata": {},
     "output_type": "execute_result"
    }
   ],
   "source": [
    "combined_df.head()"
   ]
  },
  {
   "cell_type": "code",
   "execution_count": 12,
   "id": "d9ce3eea",
   "metadata": {},
   "outputs": [],
   "source": [
    "# Replace NaN and null values with 0\n",
    "combined_df.fillna(0, inplace=True)"
   ]
  },
  {
   "cell_type": "code",
   "execution_count": 64,
   "id": "3ea9e8a0",
   "metadata": {},
   "outputs": [
    {
     "name": "stderr",
     "output_type": "stream",
     "text": [
      "C:\\Users\\abhis\\AppData\\Local\\Temp\\ipykernel_2104\\1346681454.py:2: FutureWarning: The default value of numeric_only in DataFrame.corr is deprecated. In a future version, it will default to False. Select only valid columns or specify the value of numeric_only to silence this warning.\n",
      "  correlation_matrix = combined_df.corr()\n"
     ]
    },
    {
     "data": {
      "image/png": "[encoded data removed]",
      "text/plain": [
       "<Figure size 1000x800 with 2 Axes>"
      ]
     },
     "metadata": {},
     "output_type": "display_data"
    }
   ],
   "source": [
    "# Calculate the correlation matrix\n",
    "correlation_matrix = combined_df.corr()\n",
    "\n",
    "# Plot the correlation matrix as a heatmap\n",
    "plt.figure(figsize=(10, 8))\n",
    "sns.heatmap(correlation_matrix, annot=True, cmap=\"coolwarm\")\n",
    "plt.title('Correlation Matrix')\n",
    "plt.show()\n"
   ]
  },
  {
   "cell_type": "code",
   "execution_count": 67,
   "id": "ff4ae55f",
   "metadata": {
    "scrolled": true
   },
   "outputs": [
    {
     "name": "stdout",
     "output_type": "stream",
     "text": [
      "Accuracy: 0.6896701388888888\n"
     ]
    },
    {
     "name": "stderr",
     "output_type": "stream",
     "text": [
      "C:\\Users\\abhis\\AppData\\Roaming\\Python\\Python39\\site-packages\\sklearn\\linear_model\\_logistic.py:814: ConvergenceWarning: lbfgs failed to converge (status=1):\n",
      "STOP: TOTAL NO. of ITERATIONS REACHED LIMIT.\n",
      "\n",
      "Increase the number of iterations (max_iter) or scale the data as shown in:\n",
      "    https://scikit-learn.org/stable/modules/preprocessing.html\n",
      "Please also refer to the documentation for alternative solver options:\n",
      "    https://scikit-learn.org/stable/modules/linear_model.html#logistic-regression\n",
      "  n_iter_i = _check_optimize_result(\n"
     ]
    }
   ],
   "source": [
    "#Logistic Regression\n",
    "\n",
    "\n",
    "# Select the relevant columns for prediction\n",
    "feature_columns = ['Wt', '40yd', 'Vertical', 'Bench', 'Broad Jump', '3Cone', 'Shuttle', 'Height']\n",
    "target_column = 'Drafted'\n",
    "\n",
    "# Split the data into features and target variable\n",
    "X = combined_df[feature_columns]\n",
    "y = combined_df[target_column]\n",
    "\n",
    "# Split the data into training and testing sets\n",
    "X_train, X_test, y_train, y_test = train_test_split(X, y, test_size=0.3, random_state=42)\n",
    "\n",
    "# Initialize and train the logistic regression model\n",
    "model = LogisticRegression()\n",
    "model.fit(X_train, y_train)\n",
    "\n",
    "# Make predictions on the testing set\n",
    "y_pred = model.predict(X_test)\n",
    "\n",
    "# Evaluate the model performance\n",
    "accuracy = accuracy_score(y_test, y_pred)\n",
    "print('Accuracy:', accuracy)\n"
   ]
  },
  {
   "cell_type": "code",
   "execution_count": 68,
   "id": "11acb4f1",
   "metadata": {},
   "outputs": [
    {
     "name": "stdout",
     "output_type": "stream",
     "text": [
      "Accuracy: 0.6280381944444444\n"
     ]
    }
   ],
   "source": [
    "#Decision Tree\n",
    "\n",
    "# Select the relevant columns for prediction\n",
    "feature_columns = ['Wt', '40yd', 'Vertical', 'Bench', 'Broad Jump', '3Cone', 'Shuttle', 'Height']\n",
    "target_column = 'Drafted'\n",
    "\n",
    "# Split the data into features and target variable\n",
    "X = combined_df[feature_columns]\n",
    "y = combined_df[target_column]\n",
    "\n",
    "# Split the data into training and testing sets\n",
    "X_train, X_test, y_train, y_test = train_test_split(X, y, test_size=0.3, random_state=42)\n",
    "\n",
    "# Initialize and train the Decision Tree classifier\n",
    "model = DecisionTreeClassifier(random_state=42)\n",
    "model.fit(X_train, y_train)\n",
    "\n",
    "# Make predictions on the testing set\n",
    "y_pred = model.predict(X_test)\n",
    "\n",
    "# Evaluate the model performance\n",
    "accuracy = accuracy_score(y_test, y_pred)\n",
    "print('Accuracy:', accuracy)\n"
   ]
  },
  {
   "cell_type": "code",
   "execution_count": 69,
   "id": "1768a7a6",
   "metadata": {},
   "outputs": [
    {
     "name": "stdout",
     "output_type": "stream",
     "text": [
      "Accuracy: 0.6527777777777778\n"
     ]
    }
   ],
   "source": [
    "#SVM\n",
    "\n",
    "# Select the relevant columns for prediction\n",
    "feature_columns = ['Wt', '40yd', 'Vertical', 'Bench', 'Broad Jump', '3Cone', 'Shuttle', 'Height']\n",
    "target_column = 'Drafted'\n",
    "\n",
    "# Split the data into features and target variable\n",
    "X = combined_df[feature_columns]\n",
    "y = combined_df[target_column]\n",
    "\n",
    "# Split the data into training and testing sets\n",
    "X_train, X_test, y_train, y_test = train_test_split(X, y, test_size=0.3, random_state=42)\n",
    "\n",
    "# Initialize and train the SVM classifier\n",
    "model = SVC(random_state=42)\n",
    "model.fit(X_train, y_train)\n",
    "\n",
    "# Make predictions on the testing set\n",
    "y_pred = model.predict(X_test)\n",
    "\n",
    "# Evaluate the model performance\n",
    "accuracy = accuracy_score(y_test, y_pred)\n",
    "print('Accuracy:', accuracy)\n"
   ]
  },
  {
   "cell_type": "code",
   "execution_count": 70,
   "id": "46a9176d",
   "metadata": {},
   "outputs": [
    {
     "name": "stdout",
     "output_type": "stream",
     "text": [
      "Accuracy: 0.6710069444444444\n"
     ]
    }
   ],
   "source": [
    "#Gradient Boosting Classifier (XGBoost):\n",
    "\n",
    "# Select the relevant columns for prediction\n",
    "feature_columns = ['Wt', '40yd', 'Vertical', 'Bench', 'Broad Jump', '3Cone', 'Shuttle', 'Height']\n",
    "target_column = 'Drafted'\n",
    "\n",
    "# Split the data into features and target variable\n",
    "X = combined_df[feature_columns]\n",
    "y = combined_df[target_column]\n",
    "\n",
    "# Split the data into training and testing sets\n",
    "X_train, X_test, y_train, y_test = train_test_split(X, y, test_size=0.3, random_state=42)\n",
    "\n",
    "# Initialize and train the XGBoost classifier\n",
    "model = XGBClassifier(random_state=42)\n",
    "model.fit(X_train, y_train)\n",
    "\n",
    "# Make predictions on the testing set\n",
    "y_pred = model.predict(X_test)\n",
    "\n",
    "# Evaluate the model performance\n",
    "accuracy = accuracy_score(y_test, y_pred)\n",
    "print('Accuracy:', accuracy)\n"
   ]
  },
  {
   "cell_type": "code",
   "execution_count": 66,
   "id": "17d73300",
   "metadata": {},
   "outputs": [
    {
     "name": "stdout",
     "output_type": "stream",
     "text": [
      "Accuracy: 0.6875\n"
     ]
    }
   ],
   "source": [
    "#Random Forest\n",
    "\n",
    "# Select the relevant columns for prediction\n",
    "feature_columns = ['Wt', '40yd', 'Vertical', 'Bench', 'Broad Jump', '3Cone', 'Shuttle', 'Height']\n",
    "target_column = 'Drafted'\n",
    "\n",
    "# Split the data into features and target variable\n",
    "X = combined_df[feature_columns]\n",
    "y = combined_df[target_column]\n",
    "\n",
    "# Split the data into training and testing sets\n",
    "X_train, X_test, y_train, y_test = train_test_split(X, y, test_size=0.3, random_state=42)\n",
    "\n",
    "# Initialize and train the Random Forest classifier\n",
    "model = RandomForestClassifier(n_estimators=100, random_state=42)\n",
    "model.fit(X_train, y_train)\n",
    "\n",
    "# Make predictions on the testing set\n",
    "y_pred = model.predict(X_test)\n",
    "\n",
    "# Evaluate the model performance\n",
    "accuracy = accuracy_score(y_test, y_pred)\n",
    "print('Accuracy:', accuracy)\n"
   ]
  },
  {
   "cell_type": "code",
   "execution_count": null,
   "id": "256b9916",
   "metadata": {},
   "outputs": [],
   "source": []
  }
 ],
 "metadata": {
  "kernelspec": {
   "display_name": "Python 3 (ipykernel)",
   "language": "python",
   "name": "python3"
  },
  "language_info": {
   "codemirror_mode": {
    "name": "ipython",
    "version": 3
   },
   "file_extension": ".py",
   "mimetype": "text/x-python",
   "name": "python",
   "nbconvert_exporter": "python",
   "pygments_lexer": "ipython3",
   "version": "3.9.7"
  }
 },
 "nbformat": 4,
 "nbformat_minor": 5
}
